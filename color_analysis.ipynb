{
 "cells": [
  {
   "cell_type": "markdown",
   "metadata": {},
   "source": [
    "# CS4701 Project: Personal Color Analysis"
   ]
  },
  {
   "cell_type": "code",
   "execution_count": null,
   "metadata": {},
   "outputs": [],
   "source": [
    "import torch\n",
    "import torch.nn as nn\n",
    "import torch.optim as optim\n",
    "from torch.utils.data import DataLoader\n",
    "import torch.nn.functional as F\n",
    "from torch.autograd import Variable\n",
    "\n",
    "from torch.utils.data import Dataset, DataLoader, Subset\n",
    "from torchvision import transforms\n",
    "from PIL import Image\n",
    "import os\n",
    "import torch\n",
    "from torch.utils.data import SubsetRandomSampler\n",
    "from sklearn.model_selection import StratifiedKFold\n",
    "\n",
    "import random\n",
    "import os\n",
    "import numpy as np\n",
    "\n",
    "import matplotlib.pyplot as plt\n",
    "import seaborn as sns\n",
    "\n",
    "from google.colab import drive\n",
    "\n",
    "random.seed(0)\n",
    "torch.manual_seed(0)"
   ]
  },
  {
   "cell_type": "code",
   "execution_count": null,
   "metadata": {},
   "outputs": [],
   "source": [
    "device = torch.device(\"cuda\" if torch.cuda.is_available() else \"cpu\")\n",
    "print(F\"Device set to {device}\")"
   ]
  },
  {
   "cell_type": "markdown",
   "metadata": {},
   "source": [
    "# Step 1: Create Dataset"
   ]
  },
  {
   "cell_type": "code",
   "execution_count": null,
   "metadata": {},
   "outputs": [],
   "source": [
    "# First, define the path to the data\n",
    "\n",
    "PATH_TO_DATA = 'TODO: path to data'"
   ]
  },
  {
   "cell_type": "markdown",
   "metadata": {},
   "source": [
    "### Define ColorSeasonDataset class"
   ]
  },
  {
   "cell_type": "code",
   "execution_count": null,
   "metadata": {},
   "outputs": [],
   "source": [
    "class ColorSeasonDataset(Dataset):\n",
    "    def __init__(self, root_dir, split='train', transform=None, indices=None):\n",
    "        \"\"\"\n",
    "        Args:\n",
    "            root_dir (string): Root directory containing the RGB-M folder\n",
    "            split (string): 'train' or 'test'\n",
    "            transform (callable, optional): Transform to apply to images\n",
    "            indices (list, optional): If provided, only use these indices\n",
    "        \"\"\"\n",
    "        self.root_dir = root_dir\n",
    "        self.transform = transform\n",
    "        self.split = split\n",
    "        \n",
    "        # Define season and subtype mapping\n",
    "        self.seasons = ['spring', 'summer', 'autumn', 'winter']\n",
    "        self.subtypes = {\n",
    "            'spring': ['warm', 'light', 'bright'],\n",
    "            'summer': ['cool', 'light', 'soft'],\n",
    "            'autumn': ['warm', 'deep', 'soft'],\n",
    "            'winter': ['cool', 'deep', 'bright']\n",
    "        }\n",
    "        \n",
    "        # Collect all image paths and corresponding labels\n",
    "        self.image_paths = []\n",
    "        self.labels = []\n",
    "        \n",
    "        base_path = os.path.join(root_dir, 'RGB-M', split)\n",
    "        \n",
    "        for season_idx, season in enumerate(self.seasons):\n",
    "            season_path = os.path.join(base_path, season)\n",
    "            if not os.path.isdir(season_path):\n",
    "                continue\n",
    "                \n",
    "            for subtype_idx, subtype in enumerate(self.subtypes[season]):\n",
    "                subtype_path = os.path.join(season_path, subtype)\n",
    "                if not os.path.isdir(subtype_path):\n",
    "                    continue\n",
    "                    \n",
    "                for img_file in os.listdir(subtype_path):\n",
    "                    if img_file.endswith(('.png', '.jpg', '.jpeg')):\n",
    "                        self.image_paths.append(os.path.join(season_path, subtype, img_file))\n",
    "                        \n",
    "                        # Calculate combined label (0-11 for 4 seasons × 3 subtypes)\n",
    "                        combined_label = season_idx * 3 + subtype_idx\n",
    "                        self.labels.append(combined_label)\n",
    "        \n",
    "        # If indices are provided, use only those\n",
    "        if indices is not None:\n",
    "            self.image_paths = [self.image_paths[i] for i in indices]\n",
    "            self.labels = [self.labels[i] for i in indices]\n",
    "\n",
    "    def __len__(self):\n",
    "        return len(self.image_paths)\n",
    "\n",
    "    def __getitem__(self, idx):\n",
    "        img_path = self.image_paths[idx]\n",
    "        image = Image.open(img_path)\n",
    "        label = self.labels[idx]\n",
    "        \n",
    "        if self.transform:\n",
    "            image = self.transform(image)\n",
    "            \n",
    "        return image, label"
   ]
  },
  {
   "cell_type": "markdown",
   "metadata": {},
   "source": [
    "### Define transforms to data and create train/test datasets"
   ]
  },
  {
   "cell_type": "markdown",
   "metadata": {},
   "source": [
    "**Note here**: \n",
    "- The authors split the data into 4000 images for training and 900 images for testing (80-20 split)\n",
    "- It's good practice to have validation set but I'm skipping it for now because I'll use stratified k-fold cross validation later\n",
    "- This is because the dataset is small so I don't want to lose more data by splitting test set it into validation set"
   ]
  },
  {
   "cell_type": "code",
   "execution_count": null,
   "metadata": {},
   "outputs": [],
   "source": [
    "# Define random transforms for training time\n",
    "train_transform = transforms.Compose([\n",
    "    transforms.RandomResizedCrop(224),\n",
    "    transforms.RandomHorizontalFlip(),\n",
    "    # transforms.RandAugment(2, 7), # not sure about this because I don't want colors changing for color classification\n",
    "    transforms.ColorJitter(brightness=0.1, contrast=0.1, saturation=0.1),\n",
    "    transforms.ToTensor(),\n",
    "    transforms.Normalize(mean=[0.485, 0.456, 0.406], std=[0.229, 0.224, 0.225])\n",
    "])\n",
    "\n",
    "# Define fixed transforms for test time\n",
    "test_transform = transforms.Compose([\n",
    "    transforms.Resize(256),\n",
    "    transforms.CenterCrop(224),\n",
    "    transforms.ToTensor(),\n",
    "    transforms.Normalize(mean=[0.485, 0.456, 0.406], std=[0.229, 0.224, 0.225])\n",
    "])\n",
    "\n",
    "\n",
    "train_dataset = ColorSeasonDataset(\n",
    "    root_dir=PATH_TO_DATA,\n",
    "    split='train',\n",
    "    transform=train_transform\n",
    ")\n",
    "\n",
    "test_dataset = ColorSeasonDataset(\n",
    "    root_dir=PATH_TO_DATA,\n",
    "    split='test',\n",
    "    transform=test_transform\n",
    ")\n",
    "\n",
    "# Create dataloaders\n",
    "batch_size = 32\n",
    "train_loader = DataLoader(train_dataset, batch_size=batch_size, shuffle=True, num_workers=4)\n",
    "test_loader = DataLoader(test_dataset, batch_size=batch_size, shuffle=False, num_workers=4)\n"
   ]
  },
  {
   "cell_type": "markdown",
   "metadata": {},
   "source": [
    "# Step 2: Train Model"
   ]
  },
  {
   "cell_type": "markdown",
   "metadata": {},
   "source": [
    "### Define StratifiedKFold (for validation)"
   ]
  },
  {
   "cell_type": "code",
   "execution_count": null,
   "metadata": {},
   "outputs": [],
   "source": []
  },
  {
   "cell_type": "code",
   "execution_count": null,
   "metadata": {},
   "outputs": [],
   "source": []
  }
 ],
 "metadata": {
  "language_info": {
   "name": "python"
  }
 },
 "nbformat": 4,
 "nbformat_minor": 2
}
